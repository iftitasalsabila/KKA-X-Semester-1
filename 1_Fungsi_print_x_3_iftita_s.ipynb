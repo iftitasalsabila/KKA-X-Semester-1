{
  "nbformat": 4,
  "nbformat_minor": 0,
  "metadata": {
    "colab": {
      "provenance": [],
      "authorship_tag": "ABX9TyMkwjWMGUNBb6bUouROgPyC",
      "include_colab_link": true
    },
    "kernelspec": {
      "name": "python3",
      "display_name": "Python 3"
    },
    "language_info": {
      "name": "python"
    }
  },
  "cells": [
    {
      "cell_type": "markdown",
      "metadata": {
        "id": "view-in-github",
        "colab_type": "text"
      },
      "source": [
        "<a href=\"https://colab.research.google.com/github/iftitasalsabila/KKA-X-Semester-1/blob/main/1_Fungsi_print_x_3_iftita_s.ipynb\" target=\"_parent\"><img src=\"https://colab.research.google.com/assets/colab-badge.svg\" alt=\"Open In Colab\"/></a>"
      ]
    },
    {
      "cell_type": "markdown",
      "source": [
        "Nama: iftita salsabila\n",
        "\n",
        "Kelas:x.3\n",
        "\n",
        "Absen:13"
      ],
      "metadata": {
        "id": "4p8tdWYukeY5"
      }
    },
    {
      "cell_type": "markdown",
      "source": [
        "#Menampilkan Teks Bebas"
      ],
      "metadata": {
        "id": "GYlIyvcRmzpg"
      }
    },
    {
      "cell_type": "code",
      "execution_count": null,
      "metadata": {
        "id": "a1bAWd79i1uT",
        "colab": {
          "base_uri": "https://localhost:8080/"
        },
        "outputId": "303550ff-caee-482d-b469-4295a31a2aab"
      },
      "outputs": [
        {
          "output_type": "stream",
          "name": "stdout",
          "text": [
            "iftita salsabila\n"
          ]
        }
      ],
      "source": [
        "print(\"iftita salsabila\")"
      ]
    },
    {
      "cell_type": "code",
      "source": [
        "print('iftita salsabila')"
      ],
      "metadata": {
        "colab": {
          "base_uri": "https://localhost:8080/"
        },
        "id": "_hmsHoLcmY3k",
        "outputId": "9d54a21b-07ca-4dd9-d292-465b3efa2109"
      },
      "execution_count": null,
      "outputs": [
        {
          "output_type": "stream",
          "name": "stdout",
          "text": [
            "iftita salsabila\n"
          ]
        }
      ]
    },
    {
      "cell_type": "markdown",
      "source": [
        "#Menampilkan Nilai Variabel"
      ],
      "metadata": {
        "id": "jZqXKJ0qltkp"
      }
    },
    {
      "cell_type": "code",
      "source": [
        "Nama =\"iftita salsabila \"\n",
        "Usia =15"
      ],
      "metadata": {
        "id": "RtWcgKKZmLo-"
      },
      "execution_count": null,
      "outputs": []
    },
    {
      "cell_type": "code",
      "source": [
        "print(Nama)"
      ],
      "metadata": {
        "colab": {
          "base_uri": "https://localhost:8080/"
        },
        "id": "jTS0S9fznKzo",
        "outputId": "1d45c5a1-e118-496f-fb60-5968a44c5e2a"
      },
      "execution_count": null,
      "outputs": [
        {
          "output_type": "stream",
          "name": "stdout",
          "text": [
            "iftita salsabila \n"
          ]
        }
      ]
    },
    {
      "cell_type": "code",
      "source": [
        "print(\"Nama\")"
      ],
      "metadata": {
        "colab": {
          "base_uri": "https://localhost:8080/"
        },
        "id": "gmE9s1ltnRPw",
        "outputId": "4b2e4ddc-2c2e-431e-b55d-7e9d3c845268"
      },
      "execution_count": null,
      "outputs": [
        {
          "output_type": "stream",
          "name": "stdout",
          "text": [
            "Nama\n"
          ]
        }
      ]
    },
    {
      "cell_type": "code",
      "source": [
        "print (Usia)"
      ],
      "metadata": {
        "colab": {
          "base_uri": "https://localhost:8080/"
        },
        "id": "xijNXvdSnYdA",
        "outputId": "59a29daa-a515-4105-84c2-a071c390be85"
      },
      "execution_count": null,
      "outputs": [
        {
          "output_type": "stream",
          "name": "stdout",
          "text": [
            "15\n"
          ]
        }
      ]
    },
    {
      "cell_type": "code",
      "source": [
        "print (\"Usia\")"
      ],
      "metadata": {
        "colab": {
          "base_uri": "https://localhost:8080/"
        },
        "id": "Nob-eWCEne5m",
        "outputId": "9390e51a-3316-47a5-8700-879068ad9505"
      },
      "execution_count": null,
      "outputs": [
        {
          "output_type": "stream",
          "name": "stdout",
          "text": [
            "Usia\n"
          ]
        }
      ]
    },
    {
      "cell_type": "markdown",
      "source": [
        "Latihan:\n",
        "\n",
        "Buat variabel berat_badan, lalu tampilkan nilai variabel tersebut\n",
        "\n",
        "Buat variabel nama_saudara, lalu tampilkan nilai variabel tersebut"
      ],
      "metadata": {
        "id": "CL6bTUn4nui8"
      }
    },
    {
      "cell_type": "code",
      "source": [
        "berat_badan=44"
      ],
      "metadata": {
        "id": "c51G69L_pCGe"
      },
      "execution_count": null,
      "outputs": []
    },
    {
      "cell_type": "code",
      "source": [
        "print (44)"
      ],
      "metadata": {
        "colab": {
          "base_uri": "https://localhost:8080/"
        },
        "id": "mI2uKJ32pSIj",
        "outputId": "2e1a8e73-8008-4e6a-bcb9-87151de41cf4"
      },
      "execution_count": null,
      "outputs": [
        {
          "output_type": "stream",
          "name": "stdout",
          "text": [
            "44\n"
          ]
        }
      ]
    },
    {
      "cell_type": "code",
      "source": [
        "nama_saudara=\"irfan\""
      ],
      "metadata": {
        "id": "Uvfa496HpXdp"
      },
      "execution_count": null,
      "outputs": []
    },
    {
      "cell_type": "code",
      "source": [
        "print (nama_saudara)"
      ],
      "metadata": {
        "id": "rv0y48wgpfxr",
        "outputId": "ec729130-80a2-4fe4-d0bc-b7c63a59b9d9",
        "colab": {
          "base_uri": "https://localhost:8080/"
        }
      },
      "execution_count": null,
      "outputs": [
        {
          "output_type": "stream",
          "name": "stdout",
          "text": [
            "irfan\n"
          ]
        }
      ]
    },
    {
      "cell_type": "markdown",
      "source": [
        "#Menampilkan Nilai Variabel dan Teks Bebas"
      ],
      "metadata": {
        "id": "b0bBX1tWuUHQ"
      }
    },
    {
      "cell_type": "code",
      "source": [
        "print (\"Halo nama saya\", Nama, \". Usia saya\", Usia, \" tahun\")"
      ],
      "metadata": {
        "colab": {
          "base_uri": "https://localhost:8080/"
        },
        "id": "rlX6l3kGujOe",
        "outputId": "e39d43fc-9453-4d0b-d478-d413c1b8cfeb"
      },
      "execution_count": null,
      "outputs": [
        {
          "output_type": "stream",
          "name": "stdout",
          "text": [
            "Halo nama saya iftita salsabila  . Usia saya 15  tahun\n"
          ]
        }
      ]
    },
    {
      "cell_type": "code",
      "source": [
        "print (\"Halo nama saya \"+Nama+\". Usia saya \"+str(Usia)+\"  tahun.\")"
      ],
      "metadata": {
        "colab": {
          "base_uri": "https://localhost:8080/"
        },
        "id": "K9CE5v-aviTf",
        "outputId": "0d4fba30-f3f2-44bf-e8e6-bd26f766872a"
      },
      "execution_count": null,
      "outputs": [
        {
          "output_type": "stream",
          "name": "stdout",
          "text": [
            "Halo nama saya iftita salsabila . Usia saya 15  tahun.\n"
          ]
        }
      ]
    },
    {
      "cell_type": "code",
      "source": [
        "print (f\"Halo nama saya {Nama}.Usia saya {Usia} tahun. \")"
      ],
      "metadata": {
        "colab": {
          "base_uri": "https://localhost:8080/"
        },
        "id": "Z40h0gmRxKCQ",
        "outputId": "9d0f7893-3f8f-4b0f-d0dd-02c9a6b5f4d1"
      },
      "execution_count": null,
      "outputs": [
        {
          "output_type": "stream",
          "name": "stdout",
          "text": [
            "Halo nama saya iftita salsabila .Usia saya 15 tahun. \n"
          ]
        }
      ]
    },
    {
      "cell_type": "markdown",
      "source": [
        "Latihan soal:\n",
        "Gunakan ketiga metode untuk menampilkan teks bebas dan nilai variabel untuk kalimat berikut:\n",
        "Nama saudara saya adalah..... Berat badannya adalah....."
      ],
      "metadata": {
        "id": "I4i1nrTZxgTa"
      }
    },
    {
      "cell_type": "code",
      "source": [
        "print(\"Nama saudara saya adalah\",Nama,\". Berat badannya adalah \",berat_badan,)"
      ],
      "metadata": {
        "colab": {
          "base_uri": "https://localhost:8080/"
        },
        "id": "pAkG76mpx6hh",
        "outputId": "64f99cb1-9d5f-4a09-f4ee-98c334b0f464"
      },
      "execution_count": null,
      "outputs": [
        {
          "output_type": "stream",
          "name": "stdout",
          "text": [
            "Nama saudara saya adalah iftita salsabila  . Berat badannya adalah  44\n"
          ]
        }
      ]
    },
    {
      "cell_type": "code",
      "source": [
        "print(\"Nama saudara saya adalah\"str+(berat badan)+\".\")"
      ],
      "metadata": {
        "id": "I-lqytpDzxm8",
        "colab": {
          "base_uri": "https://localhost:8080/",
          "height": 159
        },
        "outputId": "0c86b612-c3e4-42ea-b25e-35564a3aeced"
      },
      "execution_count": null,
      "outputs": [
        {
          "output_type": "error",
          "ename": "SyntaxError",
          "evalue": "invalid syntax. Perhaps you forgot a comma? (ipython-input-2142016513.py, line 1)",
          "traceback": [
            "\u001b[0;36m  File \u001b[0;32m\"/tmp/ipython-input-2142016513.py\"\u001b[0;36m, line \u001b[0;32m1\u001b[0m\n\u001b[0;31m    print(\"Nama saudara saya adalah\"str+(berat badan)+\".\")\u001b[0m\n\u001b[0m          ^\u001b[0m\n\u001b[0;31mSyntaxError\u001b[0m\u001b[0;31m:\u001b[0m invalid syntax. Perhaps you forgot a comma?\n"
          ]
        }
      ]
    },
    {
      "cell_type": "markdown",
      "source": [
        "#Escape Character"
      ],
      "metadata": {
        "id": "EhI-j6g4t2mF"
      }
    },
    {
      "cell_type": "code",
      "source": [
        "print(\"Nama: Iftita s\n",
        "Kelas:X.3\n",
        "No. absen:29\")"
      ],
      "metadata": {
        "colab": {
          "base_uri": "https://localhost:8080/",
          "height": 159
        },
        "id": "mvdL-Vk2uDpo",
        "outputId": "2a52902f-f92a-437e-8868-70657fbb8ccd"
      },
      "execution_count": null,
      "outputs": [
        {
          "output_type": "error",
          "ename": "SyntaxError",
          "evalue": "unterminated string literal (detected at line 1) (ipython-input-1725029922.py, line 1)",
          "traceback": [
            "\u001b[0;36m  File \u001b[0;32m\"/tmp/ipython-input-1725029922.py\"\u001b[0;36m, line \u001b[0;32m1\u001b[0m\n\u001b[0;31m    print(\"Nama: Iftita s\u001b[0m\n\u001b[0m          ^\u001b[0m\n\u001b[0;31mSyntaxError\u001b[0m\u001b[0;31m:\u001b[0m unterminated string literal (detected at line 1)\n"
          ]
        }
      ]
    },
    {
      "cell_type": "code",
      "source": [
        "print(\"Nama: Iftita s\")\n",
        "print(\"Kelas: X.3\")\n",
        "print(\"No. absen:13\")"
      ],
      "metadata": {
        "colab": {
          "base_uri": "https://localhost:8080/"
        },
        "id": "6oXoq0cNuf80",
        "outputId": "68a42582-c995-45ac-947c-81537dad2bc9"
      },
      "execution_count": null,
      "outputs": [
        {
          "output_type": "stream",
          "name": "stdout",
          "text": [
            "Nama: Iftita s\n",
            "Kelas: X.3\n",
            "No. absen:13\n"
          ]
        }
      ]
    },
    {
      "cell_type": "code",
      "source": [
        "print(\"Nama: Iftita s\\nKelas: X. 3\\nNo. absen:13\")"
      ],
      "metadata": {
        "colab": {
          "base_uri": "https://localhost:8080/"
        },
        "id": "HkA08KWLvIaz",
        "outputId": "9488a287-f495-4e34-bf23-befce0545cef"
      },
      "execution_count": null,
      "outputs": [
        {
          "output_type": "stream",
          "name": "stdout",
          "text": [
            "Nama: Iftita s\n",
            "Kelas: X. 3\n",
            "No. absen:13\n"
          ]
        }
      ]
    },
    {
      "cell_type": "code",
      "source": [
        "print(\"\"\"Nama\\t\\t: Iftita s\n",
        "Kelas\\t\\t: X.3\n",
        "No. absen\\t:29\"\"\")"
      ],
      "metadata": {
        "colab": {
          "base_uri": "https://localhost:8080/"
        },
        "id": "HFOBEhGxvjdU",
        "outputId": "67801cd6-becb-485f-a90d-4839b8544085"
      },
      "execution_count": null,
      "outputs": [
        {
          "output_type": "stream",
          "name": "stdout",
          "text": [
            "Nama\t\t: Iftita s\n",
            "Kelas\t\t: X.3\n",
            "No. absen\t:29\n"
          ]
        }
      ]
    },
    {
      "cell_type": "code",
      "source": [
        "print(\"Nama: Habibie Ainun \")"
      ],
      "metadata": {
        "colab": {
          "base_uri": "https://localhost:8080/"
        },
        "id": "uwkcuL03wHmk",
        "outputId": "f6f00d8b-5ed0-4e37-eb1c-809291e20a30"
      },
      "execution_count": null,
      "outputs": [
        {
          "output_type": "stream",
          "name": "stdout",
          "text": [
            "Nama: Habibie Ainun \n"
          ]
        }
      ]
    },
    {
      "cell_type": "code",
      "source": [
        "print('Nama: Habibie Ainun')"
      ],
      "metadata": {
        "colab": {
          "base_uri": "https://localhost:8080/"
        },
        "id": "1L-kQEJSw2_x",
        "outputId": "66c359cf-6615-48ee-b75a-04ee077e3ffb"
      },
      "execution_count": null,
      "outputs": [
        {
          "output_type": "stream",
          "name": "stdout",
          "text": [
            "Nama: Habibie Ainun\n"
          ]
        }
      ]
    },
    {
      "cell_type": "code",
      "source": [
        "print('Nama: Habibie A\\'iun')"
      ],
      "metadata": {
        "colab": {
          "base_uri": "https://localhost:8080/"
        },
        "id": "NU0kxxOCxGxt",
        "outputId": "fb4d6881-af19-41ad-cad4-9f778bde2b1d"
      },
      "execution_count": null,
      "outputs": [
        {
          "output_type": "stream",
          "name": "stdout",
          "text": [
            "Nama: Habibie A'iun\n"
          ]
        }
      ]
    },
    {
      "cell_type": "code",
      "source": [
        "print(\"Nama: Habibie A'inun\")"
      ],
      "metadata": {
        "colab": {
          "base_uri": "https://localhost:8080/"
        },
        "id": "zuG0BjPvxU4Z",
        "outputId": "52afc72e-c5ed-4bd7-82a1-3a9d758902da"
      },
      "execution_count": null,
      "outputs": [
        {
          "output_type": "stream",
          "name": "stdout",
          "text": [
            "Nama: Habibie A'inun\n"
          ]
        }
      ]
    },
    {
      "cell_type": "code",
      "source": [
        "print(\"Bu shinta berkata, \\\"Silakan lihat ke layar TV.\\\".\")"
      ],
      "metadata": {
        "colab": {
          "base_uri": "https://localhost:8080/"
        },
        "id": "c9NbPdDUxg3W",
        "outputId": "e62d2d80-2318-41e7-83c1-3d818c105688"
      },
      "execution_count": null,
      "outputs": [
        {
          "output_type": "stream",
          "name": "stdout",
          "text": [
            "Bu shinta berkata, \"Silakan lihat ke layar TV.\".\n"
          ]
        }
      ]
    },
    {
      "cell_type": "code",
      "source": [
        "print('Bu shinta berkata,\"Silakan lihat ke layar TV. \".')"
      ],
      "metadata": {
        "colab": {
          "base_uri": "https://localhost:8080/"
        },
        "id": "lNAmY_nqyBkF",
        "outputId": "27137230-3473-49e4-d57e-503ab450037f"
      },
      "execution_count": null,
      "outputs": [
        {
          "output_type": "stream",
          "name": "stdout",
          "text": [
            "Bu shinta berkata,\"Silakan lihat ke layar TV. \".\n"
          ]
        }
      ]
    },
    {
      "cell_type": "code",
      "source": [
        "print(\"\"\"Nama file: Tugas KKA\n",
        "Lokasi file: D:\\\\MAN Demak\\\\KKA\"\"\")"
      ],
      "metadata": {
        "colab": {
          "base_uri": "https://localhost:8080/"
        },
        "id": "MH9nWGvbyY2z",
        "outputId": "4969882c-9a69-42fb-c999-c8cbe588ee6b"
      },
      "execution_count": null,
      "outputs": [
        {
          "output_type": "stream",
          "name": "stdout",
          "text": [
            "Nama file: Tugas KKA\n",
            "Lokasi file: D:\\MAN Demak\\KKA\n"
          ]
        }
      ]
    },
    {
      "cell_type": "code",
      "source": [
        "print('Nama file\\t: Ulangan Harian Ma\\'rifatullah\\nLokasi file\\t: D:\\\\Mata kuliah\\\\Ma\\'rifatullah')"
      ],
      "metadata": {
        "colab": {
          "base_uri": "https://localhost:8080/"
        },
        "id": "3_KdnC6LzuIE",
        "outputId": "d4250ea8-ba5b-4397-e68d-dc7a38493747"
      },
      "execution_count": null,
      "outputs": [
        {
          "output_type": "stream",
          "name": "stdout",
          "text": [
            "Nama file\t: Ulangan Harian Ma'rifatullah\n",
            "Lokasi file\t: D:\\Mata kuliah\\Ma'rifatullah\n"
          ]
        }
      ]
    }
  ]
}